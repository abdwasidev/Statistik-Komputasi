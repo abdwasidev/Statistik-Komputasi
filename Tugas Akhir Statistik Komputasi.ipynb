{
 "cells": [
  {
   "cell_type": "markdown",
   "id": "ea7c5c91",
   "metadata": {},
   "source": [
    "# Analisis Linear\n",
    "\n",
    "\n",
    "## Anggota Kelompok\n",
    "- Abdul Wasi' Al-Afif (20081010165)\n",
    "- Mortekiano Nigel (20081010134)\n"
   ]
  },
  {
   "cell_type": "code",
   "execution_count": 1,
   "id": "7085515b",
   "metadata": {},
   "outputs": [
    {
     "name": "stdout",
     "output_type": "stream",
     "text": [
      "{'Usia Mobil': [3, 4, 6, 7, 8, 9], 'Harga Mobil': [227, 210, 186, 150, 133, 121]}\n"
     ]
    }
   ],
   "source": [
    "data_penjualan_mobil = {\"Usia Mobil\":[3, 4, 6, 7, 8, 9], \"Harga Mobil\":[227, 210, 186, 150, 133, 121]}\n",
    "print(data_penjualan_mobil)"
   ]
  },
  {
   "cell_type": "code",
   "execution_count": 2,
   "id": "567a7136",
   "metadata": {},
   "outputs": [],
   "source": [
    "sigma_xi = sum(data_penjualan_mobil[\"Usia Mobil\"])\n",
    "sigma_yi = sum(data_penjualan_mobil[\"Harga Mobil\"])\n",
    "sigma_xi_2 = sum([data_penjualan_mobil[\"Usia Mobil\"][i]**2 for i in range(len(data_penjualan_mobil[\"Usia Mobil\"]))])\n",
    "sigma_xi_yi = sum([data_penjualan_mobil[\"Usia Mobil\"][i]*data_penjualan_mobil[\"Harga Mobil\"][i] for i in range(len(data_penjualan_mobil[\"Usia Mobil\"]))])"
   ]
  },
  {
   "cell_type": "code",
   "execution_count": 3,
   "id": "002dd6ed",
   "metadata": {},
   "outputs": [
    {
     "name": "stdout",
     "output_type": "stream",
     "text": [
      "Sigma xi = 37, sigma yi = 1027, sigma xi^2 = 255, sigma xi yi = 5840\n"
     ]
    }
   ],
   "source": [
    "print(f\"Sigma xi = {sigma_xi}, sigma yi = {sigma_yi}, sigma xi^2 = {sigma_xi_2}, sigma xi yi = {sigma_xi_yi}\")"
   ]
  },
  {
   "cell_type": "code",
   "execution_count": 4,
   "id": "06add1b2",
   "metadata": {},
   "outputs": [
    {
     "name": "stdout",
     "output_type": "stream",
     "text": [
      "Nilai A : 284.5031055900621, Nilai B : 217.63975155279502\n"
     ]
    }
   ],
   "source": [
    "a= ((sigma_yi*sigma_xi_2)-(sigma_xi*sigma_xi_yi))/((len(data_penjualan_mobil[\"Usia Mobil\"])*sigma_xi_2)-(sigma_xi**2))\n",
    "b= ((len(data_penjualan_mobil[\"Usia Mobil\"])*sigma_xi_yi))/((len(data_penjualan_mobil[\"Usia Mobil\"])*sigma_xi_2)-(sigma_xi**2))\n",
    "print(f\"Nilai A : {a}, Nilai B : {b}\")"
   ]
  },
  {
   "cell_type": "code",
   "execution_count": 6,
   "id": "e51b1f4c",
   "metadata": {},
   "outputs": [
    {
     "name": "stdout",
     "output_type": "stream",
     "text": [
      "Masukan nilai usia mobil : 8\n"
     ]
    }
   ],
   "source": [
    "\"\"\"\n",
    "Misal :\n",
    "\n",
    "    Usia Mobil = 8\n",
    "\"\"\"\n",
    "while True:\n",
    "\n",
    "    try:\n",
    "        data_penjualan_mobil[\"Usia Mobil\"] = int(input(\"Masukan nilai usia mobil : \"))\n",
    "        break\n",
    "    except ValueError:\n",
    "        print(\"Maaf harga mobil tidak dapat diprediksi\")\n",
    "\n",
    "        prediksi = (a + (b * data_penjualan_mobil[\"Usia Mobil\"]))\n",
    "\n",
    "        prediksi\n"
   ]
  },
  {
   "cell_type": "markdown",
   "id": "155c64d1",
   "metadata": {},
   "source": []
  }
 ],
 "metadata": {
  "kernelspec": {
   "display_name": "Python 3 (ipykernel)",
   "language": "python",
   "name": "python3"
  },
  "language_info": {
   "codemirror_mode": {
    "name": "ipython",
    "version": 3
   },
   "file_extension": ".py",
   "mimetype": "text/x-python",
   "name": "python",
   "nbconvert_exporter": "python",
   "pygments_lexer": "ipython3",
   "version": "3.9.7"
  }
 },
 "nbformat": 4,
 "nbformat_minor": 5
}
